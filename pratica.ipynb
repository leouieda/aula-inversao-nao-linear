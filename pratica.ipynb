{
 "cells": [
  {
   "cell_type": "markdown",
   "id": "0e357aba-7bb8-457e-9574-527a540f1df0",
   "metadata": {},
   "source": [
    "# Inversão não-linear: localização de epicentros de terremotos"
   ]
  },
  {
   "cell_type": "markdown",
   "id": "0ab22c19-3715-4003-98c8-e500183bb312",
   "metadata": {},
   "source": [
    "Este notebook exemplifica um a solução do problema inverso não-linear de localização de epicentros de terremotos com base em medições da diferença de tempo de chegada de ondas P e S em estações sismográficas."
   ]
  },
  {
   "cell_type": "code",
   "execution_count": 1,
   "id": "741267e6-4504-40bc-b58c-27ab9f304d26",
   "metadata": {},
   "outputs": [],
   "source": [
    "import numpy as np\n",
    "import scipy as sp\n",
    "import bordado as bd\n",
    "import matplotlib.pyplot as plt\n",
    "import ipywidgets"
   ]
  },
  {
   "cell_type": "markdown",
   "id": "6894d324-7d82-4487-aa01-e597e88e83ee",
   "metadata": {},
   "source": [
    "## Funções para realizar as inversões\n",
    "\n",
    "As funções abaixo implementam a inversão por três métodos: Newton, Levemberg-Marquardt e steepest descent."
   ]
  },
  {
   "cell_type": "code",
   "execution_count": 2,
   "id": "effcfd58-7aae-445f-96c8-e7388e8cff4f",
   "metadata": {},
   "outputs": [],
   "source": [
    "def defasagem_ps(epicentro, estações, vp, vs):\n",
    "    \"\"\"\n",
    "    Calcula a diferença de tempo entre a chegada das ondas P e S.\n",
    "    \"\"\"\n",
    "    x, y = epicentro\n",
    "    xs, ys = estações\n",
    "    distancia = np.sqrt((x - xs)**2 + (y - ys)**2)\n",
    "    return distancia * (1 / vs - 1 / vp)"
   ]
  },
  {
   "cell_type": "code",
   "execution_count": 3,
   "id": "832ee3b3-b50d-43b9-9c6d-1e06e1921bac",
   "metadata": {},
   "outputs": [],
   "source": [
    "def jacobiana(epicentro, estações, vp, vs):\n",
    "    \"\"\"\n",
    "    Calcula a matriz Jacobiana.\n",
    "    \"\"\"\n",
    "    x, y = epicentro\n",
    "    xs, ys = estações\n",
    "    A = np.empty((xs.size, 2))\n",
    "    distancia = np.sqrt((x - xs)**2 + (y - ys)**2)\n",
    "    A[:, 0] = (x - xs) / distancia * (1 / vs - 1 / vp)\n",
    "    A[:, 1] = (y - ys) / distancia * (1 / vs - 1 / vp)\n",
    "    return A"
   ]
  },
  {
   "cell_type": "code",
   "execution_count": 4,
   "id": "afa27be7-1dad-4041-8ff3-bfd874497456",
   "metadata": {},
   "outputs": [],
   "source": [
    "def estima_epicentro_newton(inicial, estações, vp, vs, dados, max_it):\n",
    "    \"\"\"\n",
    "    Estima o epicentro com método de Newton.\n",
    "    \"\"\"\n",
    "    epicentro = np.array(inicial)\n",
    "    residuos = dados - defasagem_ps(epicentro, estações, vp, vs)\n",
    "    objetivo = [np.linalg.norm(residuos)**2]\n",
    "    passos = [epicentro]\n",
    "    for i in range(max_it):\n",
    "        A = jacobiana(epicentro, estações, vp, vs)\n",
    "        passo = sp.linalg.solve(A.T @ A, A.T @ residuos)\n",
    "        epicentro = epicentro + passo\n",
    "        residuos = dados - defasagem_ps(epicentro, estações, vp, vs)\n",
    "        objetivo.append(np.linalg.norm(residuos)**2)\n",
    "        passos.append(epicentro)\n",
    "    return np.transpose(passos), objetivo        \n",
    "\n",
    "def estima_epicentro_levmarq(inicial, estações, vp, vs, dados, max_it, alpha, dalpha):\n",
    "    \"\"\"\n",
    "    Estima o epicentro com método de Levemberg-Marquardt.\n",
    "    \"\"\"\n",
    "    epicentro = np.array(inicial)\n",
    "    residuos = dados - defasagem_ps(epicentro, estações, vp, vs)\n",
    "    objetivo = [np.linalg.norm(residuos)**2]\n",
    "    passos = [epicentro]\n",
    "    I = np.eye(2)\n",
    "    for i in range(max_it):\n",
    "        A = jacobiana(epicentro, estações, vp, vs)\n",
    "        hessiana = A.T @ A\n",
    "        precondicionador = np.diag(1 / np.abs(np.diagonal(hessiana)))\n",
    "        hessiana = precondicionador @ hessiana    \n",
    "        gradiente = -precondicionador @ A.T @ residuos\n",
    "        for j in range(100):             \n",
    "            passo = sp.linalg.solve(hessiana + alpha * I, -gradiente)            \n",
    "            residuos = dados - defasagem_ps(epicentro + passo, estações, vp, vs)\n",
    "            nova_objetivo = np.linalg.norm(residuos)**2\n",
    "            if nova_objetivo > objetivo[-1]:\n",
    "                alpha *= dalpha\n",
    "            else:\n",
    "                alpha /= dalpha\n",
    "                break\n",
    "        epicentro = epicentro + passo\n",
    "        residuos = dados - defasagem_ps(epicentro, estações, vp, vs)\n",
    "        objetivo.append(np.linalg.norm(residuos)**2)\n",
    "        passos.append(epicentro)\n",
    "    return np.transpose(passos), objetivo       \n",
    "\n",
    "def estima_epicentro_steepest(inicial, estações, vp, vs, dados, max_it, beta):\n",
    "    \"\"\"\n",
    "    Estima o epicentro com método de Levemberg-Marquardt.\n",
    "    \"\"\"\n",
    "    epicentro = np.array(inicial)\n",
    "    residuos = dados - defasagem_ps(epicentro, estações, vp, vs)\n",
    "    objetivo = [np.linalg.norm(residuos)**2]\n",
    "    passos = [epicentro]\n",
    "    for i in range(max_it):\n",
    "        A = jacobiana(epicentro, estações, vp, vs)\n",
    "        gradiente = -A.T @ residuos\n",
    "        norma_gradiente = np.linalg.norm(gradiente)\n",
    "        direção = -gradiente / norma_gradiente * np.linalg.norm(epicentro)\n",
    "        for j in range(100): \n",
    "            tamanho_passo = beta ** j\n",
    "            passo = tamanho_passo * direção        \n",
    "            residuos = dados - defasagem_ps(epicentro + passo, estações, vp, vs)  \n",
    "            if np.linalg.norm(residuos)**2 - objetivo[-1] < 1e-4 * tamanho_passo:\n",
    "                break\n",
    "        epicentro = epicentro + passo\n",
    "        residuos = dados - defasagem_ps(epicentro, estações, vp, vs)\n",
    "        objetivo.append(np.linalg.norm(residuos)**2)\n",
    "        passos.append(epicentro)\n",
    "    return np.transpose(passos), objetivo       "
   ]
  },
  {
   "cell_type": "markdown",
   "id": "5e4c3cb9-ef77-45ce-87db-09f73a2df177",
   "metadata": {},
   "source": [
    "## Aplicativo interativo\n",
    "\n",
    "O código abaixo cria um aplicativo interativo usando os jupyter widgets que roda as 3 inversões com dados sintéticos variados. Diversos controles são fornecidos para controlar a inversão e o modelo sintético."
   ]
  },
  {
   "cell_type": "code",
   "execution_count": 5,
   "id": "cb1cac73-4af1-4931-9a91-95a27b8fb09a",
   "metadata": {},
   "outputs": [],
   "source": [
    "def mapa_objetivo(região, espaçamento, estações, vp, vs, dados, ax=None):\n",
    "    \"\"\"\n",
    "    Plota a função objetivo com linhas de contorno coloridas.\n",
    "    \"\"\"\n",
    "    epicentros = bd.grid_coordinates(região, spacing=espaçamento)\n",
    "    xs, ys = estações\n",
    "    predito = defasagem_ps(\n",
    "        epicentros, \n",
    "        (xs[:, np.newaxis, np.newaxis], ys[:, np.newaxis, np.newaxis]), \n",
    "        vp, vs,\n",
    "    )\n",
    "    objetivo = np.linalg.norm(dados[:, np.newaxis, np.newaxis] - predito, axis=0)**2\n",
    "    if ax is None:\n",
    "        ax = plt.gca()\n",
    "    ax.contourf(*epicentros, objetivo, 80, cmap=\"YlGn_r\")"
   ]
  },
  {
   "cell_type": "code",
   "execution_count": 6,
   "id": "faf583cb-1c3a-49fb-9886-144d1af8e35b",
   "metadata": {},
   "outputs": [],
   "source": [
    "max_it = 30\n",
    "max_estações = 10\n",
    "\n",
    "def plota_iterações(\n",
    "    n_estações, iterações, ruído, alpha, beta, semente_estações, semente_inicial, \n",
    "    newton, levmarq, steepest,\n",
    "):\n",
    "    \"\"\"\n",
    "    Faz as inversões e plota as iterações em um mapa da função objetivo.\n",
    "    \"\"\"\n",
    "    região = (0, 600e3, 0, 500e3)\n",
    "    epicentro_verdadeiro = 320e3, 260e3\n",
    "    vp, vs = 4000, 2000\n",
    "    região_pad = bd.pad_region(região, -80e3)\n",
    "    estações = tuple(\n",
    "        i[:n_estações] for i in bd.random_coordinates(\n",
    "            região_pad, size=max_estações, random_seed=semente_estações,\n",
    "        )\n",
    "    )\n",
    "    dados = defasagem_ps(epicentro_verdadeiro, estações, vp, vs)\n",
    "    dados += np.random.default_rng(42).normal(0, ruído / 100 * np.abs(dados).max(), dados.shape)\n",
    "    inicial = np.array(bd.random_coordinates(\n",
    "        região, size=1, random_seed=semente_inicial,\n",
    "    )).ravel()\n",
    "    passos_newton, objetivo_newton = estima_epicentro_newton(\n",
    "        inicial, estações, vp, vs, dados, max_it\n",
    "    )\n",
    "    passos_levmarq, objetivo_levmarq = estima_epicentro_levmarq(\n",
    "        inicial, estações, vp, vs, dados, max_it, alpha, 10,\n",
    "    )\n",
    "    passos_steepest, objetivo_steepest = estima_epicentro_steepest(\n",
    "        inicial, estações, vp, vs, dados, max_it, beta,\n",
    "    )\n",
    "    fig = plt.figure(figsize=(7, 7), layout=\"constrained\")\n",
    "    figures = fig.subfigures(2, 1, height_ratios=[2, 1])    \n",
    "    ax = figures[0].subplots(1, 1)\n",
    "    ax2 = figures[1].subplots(1, 1)    \n",
    "    mapa_objetivo(região, 5e3, estações, vp, vs, dados, ax)\n",
    "    style = dict(linewidth=2.5, markersize=6)\n",
    "    style_newton = dict(linestyle=\"-\", marker=\"o\", color=\"tab:orange\", **style)\n",
    "    style_levmarq = dict(linestyle=\"-\", marker=\"s\", color=\"tab:red\", **style)\n",
    "    style_steepest = dict(linestyle=\"-\", marker=\"D\", color=\"tab:purple\", **style)\n",
    "    ax2.plot([], [], label=\"Newton\", **style_newton)\n",
    "    ax2.plot([], [], label=\"Levemberg-Marquardt\", **style_levmarq)\n",
    "    ax2.plot([], [], label=\"Steepest descent\", **style_steepest)\n",
    "    if newton:\n",
    "        ax.plot(*passos_newton[:, :iterações + 1], **style_newton)    \n",
    "        ax2.plot(objetivo_newton[:iterações + 1], **style_newton)\n",
    "    if levmarq:\n",
    "        ax.plot(*passos_levmarq[:, :iterações + 1], **style_levmarq)\n",
    "        ax2.plot(objetivo_levmarq[:iterações + 1], **style_levmarq)\n",
    "    if steepest:\n",
    "        ax.plot(*passos_steepest[:, :iterações + 1], **style_steepest)\n",
    "        ax2.plot(objetivo_steepest[:iterações + 1], **style_steepest)    \n",
    "    ax.plot(*inicial, \"v\", color=\"white\", markersize=7)\n",
    "    ax.plot(*estações, \"^k\", markersize=7)\n",
    "    ax.plot(*epicentro_verdadeiro, \"*\", color=\"tab:cyan\", markersize=10)\n",
    "    ax.set_xlim(*região[:2])\n",
    "    ax.set_ylim(*região[2:])\n",
    "    ax.set_xlabel(\"x (m)\")\n",
    "    ax.set_ylabel(\"y (m)\")  \n",
    "    ax2.set_xlabel(\"Iterações\")\n",
    "    ax2.set_ylabel(\"Função objetivo (s²)\")\n",
    "    ax2.set_xticks(range(0, max_it + 1, 2))\n",
    "    ax2.set_xlim(0, max_it + 1)\n",
    "    ax2.set_ylim(\n",
    "        0.9 * np.min((objetivo_steepest, objetivo_levmarq, objetivo_newton)),\n",
    "        1.1 * np.max((objetivo_steepest, objetivo_levmarq, objetivo_newton)),\n",
    "    )\n",
    "    ax2.grid(axis=\"y\", linestyle=\"--\", color=\"#dddddd\", linewidth=1.5)\n",
    "    ax2.legend()"
   ]
  },
  {
   "cell_type": "code",
   "execution_count": 7,
   "id": "8f74505b-5771-45c8-95b7-698b579987cc",
   "metadata": {},
   "outputs": [],
   "source": [
    "def aplicativo():\n",
    "    widgets = dict(\n",
    "        n_estações = ipywidgets.IntSlider(value=3, min=2, max=max_estações, step=1, continuous_update=False),\n",
    "        iterações = ipywidgets.IntSlider(value=0, min=0, max=max_it, step=1, continuous_update=False),\n",
    "        ruído = ipywidgets.IntSlider(value=0, min=0, max=30, step=1, continuous_update=False),\n",
    "        alpha = ipywidgets.FloatLogSlider(value=1, min=-2, max=5, step=0.5, continuous_update=False),\n",
    "        beta = ipywidgets.FloatLogSlider(value=0.1, min=-2, max=0, step=0.1, continuous_update=False),\n",
    "        semente_estações = ipywidgets.IntSlider(value=17, min=0, max=50, step=1, continuous_update=False),\n",
    "        semente_inicial = ipywidgets.IntSlider(value=9, min=0, max=50, step=1, continuous_update=False),\n",
    "        newton = ipywidgets.Checkbox(value=True),\n",
    "        levmarq = ipywidgets.Checkbox(value=False),\n",
    "        steepest = ipywidgets.Checkbox(value=False),\n",
    "    )\n",
    "    output = ipywidgets.interactive_output(plota_iterações, widgets)\n",
    "    app = ipywidgets.HBox([\n",
    "        ipywidgets.VBox([\n",
    "            ipywidgets.HTML(\"<h3><b>Métodos:</b></h3>\"),\n",
    "            ipywidgets.HBox([\n",
    "                ipywidgets.VBox([\n",
    "                    ipywidgets.Label(\"Newton\"), \n",
    "                    ipywidgets.Label(\"Levemberg-Marquardt\"),\n",
    "                    ipywidgets.Label(\"Steepest descent\"),\n",
    "                ]), \n",
    "                ipywidgets.VBox([\n",
    "                    widgets[\"newton\"], widgets[\"levmarq\"], widgets[\"steepest\"]\n",
    "                ]),\n",
    "            ]),\n",
    "            ipywidgets.HTML(\"<h3><b>Controles:</b></h3>\"),\n",
    "            ipywidgets.Label(\"Número de estações\"), widgets[\"n_estações\"], \n",
    "            ipywidgets.Label(\"Iterações\"), widgets[\"iterações\"], \n",
    "            ipywidgets.Label(\"Ruído nos dados (%)\"), widgets[\"ruído\"], \n",
    "            ipywidgets.Label(\"Regularização do passo (LM) ($\\\\alpha$)\"), widgets[\"alpha\"], \n",
    "            ipywidgets.Label(\"Base do passo (SD) ($\\\\beta$)\"), widgets[\"beta\"], \n",
    "            ipywidgets.Label(\"Semente das estações\"), widgets[\"semente_estações\"],\n",
    "            ipywidgets.Label(\"Semente do chute inicial\"), widgets[\"semente_inicial\"],\n",
    "        ]),\n",
    "        output\n",
    "    ])\n",
    "    return app"
   ]
  },
  {
   "cell_type": "code",
   "execution_count": 8,
   "id": "aa497127-4c23-4a06-946f-e4659da78c53",
   "metadata": {},
   "outputs": [
    {
     "data": {
      "application/vnd.jupyter.widget-view+json": {
       "model_id": "e1050eaaafc240f78c2c538c3ad80030",
       "version_major": 2,
       "version_minor": 0
      },
      "text/plain": [
       "HBox(children=(VBox(children=(HTML(value='<h3><b>Métodos:</b></h3>'), HBox(children=(VBox(children=(Label(valu…"
      ]
     },
     "execution_count": 8,
     "metadata": {},
     "output_type": "execute_result"
    }
   ],
   "source": [
    "aplicativo()"
   ]
  },
  {
   "cell_type": "markdown",
   "id": "4d0f9d72-d6ea-48cc-9d26-04c6de3455e7",
   "metadata": {},
   "source": []
  },
  {
   "cell_type": "markdown",
   "id": "ea8058bd-ee26-43dc-a9b3-33c8fbad1da3",
   "metadata": {},
   "source": [
    "## Reutilizando este material\n",
    "\n",
    "Esta lição está diponível sob os termos da licença [CC-BY](https://creativecommons.org/licenses/by/4.0/)."
   ]
  }
 ],
 "metadata": {
  "kernelspec": {
   "display_name": "Python [conda env:aula-inversao-nao-linear]",
   "language": "python",
   "name": "conda-env-aula-inversao-nao-linear-py"
  },
  "language_info": {
   "codemirror_mode": {
    "name": "ipython",
    "version": 3
   },
   "file_extension": ".py",
   "mimetype": "text/x-python",
   "name": "python",
   "nbconvert_exporter": "python",
   "pygments_lexer": "ipython3",
   "version": "3.13.0"
  }
 },
 "nbformat": 4,
 "nbformat_minor": 5
}
